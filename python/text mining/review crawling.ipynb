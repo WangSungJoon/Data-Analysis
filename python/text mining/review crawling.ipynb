{
 "metadata": {
  "language_info": {
   "codemirror_mode": {
    "name": "ipython",
    "version": 3
   },
   "file_extension": ".py",
   "mimetype": "text/x-python",
   "name": "python",
   "nbconvert_exporter": "python",
   "pygments_lexer": "ipython3",
   "version": "3.8.3-final"
  },
  "orig_nbformat": 2,
  "kernelspec": {
   "name": "python3",
   "display_name": "Python 3",
   "language": "python"
  }
 },
 "nbformat": 4,
 "nbformat_minor": 2,
 "cells": [
  {
   "cell_type": "code",
   "execution_count": 59,
   "metadata": {},
   "outputs": [],
   "source": [
    "import math \n",
    "from urllib.request import urlopen \n",
    "from bs4 import BeautifulSoup \n",
    "#url에 접속\n",
    "html=urlopen('https://movie.naver.com/movie/running/current.nhn?order=reserve')\n",
    "#html 분석기\n",
    "bs=BeautifulSoup(html, 'html.parser') \n",
    "#태그 수집\n",
    "items = bs.select('#content > div.article > div > div.lst_wrap > ul > li > dl > dt > a')\n",
    "codes=[]\n",
    "titles=[]\n",
    "for item in items:\n",
    "    # <a href=''>텍스트</a>  \n",
    "    # href 속성에서 =을 기준으로 나눔\n",
    "    code=(item['href'].split('=')[1])\n",
    "    title=item.text \n",
    "    codes.append(code)\n",
    "    titles.append(title)"
   ]
  },
  {
   "cell_type": "code",
   "execution_count": 60,
   "metadata": {},
   "outputs": [
    {
     "output_type": "execute_result",
     "data": {
      "text/plain": [
       "     code                title\n",
       "0  163834           원더 우먼 1984\n",
       "1  199393                   조제\n",
       "2   28876                 화양연화\n",
       "3  193194                   도굴\n",
       "4  195370  100% 울프: 푸들이 될 순 없어"
      ],
      "text/html": "<div>\n<style scoped>\n    .dataframe tbody tr th:only-of-type {\n        vertical-align: middle;\n    }\n\n    .dataframe tbody tr th {\n        vertical-align: top;\n    }\n\n    .dataframe thead th {\n        text-align: right;\n    }\n</style>\n<table border=\"1\" class=\"dataframe\">\n  <thead>\n    <tr style=\"text-align: right;\">\n      <th></th>\n      <th>code</th>\n      <th>title</th>\n    </tr>\n  </thead>\n  <tbody>\n    <tr>\n      <th>0</th>\n      <td>163834</td>\n      <td>원더 우먼 1984</td>\n    </tr>\n    <tr>\n      <th>1</th>\n      <td>199393</td>\n      <td>조제</td>\n    </tr>\n    <tr>\n      <th>2</th>\n      <td>28876</td>\n      <td>화양연화</td>\n    </tr>\n    <tr>\n      <th>3</th>\n      <td>193194</td>\n      <td>도굴</td>\n    </tr>\n    <tr>\n      <th>4</th>\n      <td>195370</td>\n      <td>100% 울프: 푸들이 될 순 없어</td>\n    </tr>\n  </tbody>\n</table>\n</div>"
     },
     "metadata": {},
     "execution_count": 60
    }
   ],
   "source": [
    "import pandas as pd \n",
    "#데이터프레임으로 바꾸고\n",
    "df=pd.DataFrame({'code':codes, 'title':titles})\n",
    "df.head()"
   ]
  },
  {
   "cell_type": "code",
   "execution_count": 61,
   "metadata": {},
   "outputs": [],
   "source": [
    "#csv 파일로 저장\n",
    "df.to_csv('c:/data/movie/movie_code.csv', encoding='ms949',index=False)"
   ]
  },
  {
   "cell_type": "code",
   "execution_count": 62,
   "metadata": {},
   "outputs": [],
   "source": [
    "total_reviews=[]\n",
    "total_points=[]\n",
    "movie_codes=[]\n",
    "movie_titles=[]\n",
    "total_reviews2=[]\n",
    "labels=[]\n",
    "for j in range(len(codes[:10])):\n",
    "    #수집할 url\n",
    "    html=urlopen(f'https://movie.naver.com/movie/point/af/list.nhn?st=mcode&sword={codes[j]}&target=after&page=1')\n",
    "    bs=BeautifulSoup(html, 'html.parser')\n",
    "    # 태그 1개만 수집 select_one\n",
    "    total=bs.select_one('#old_content > h5 > div > strong')\n",
    "    #print(total)\n",
    "    # 좌우 공백 제거, (), 제거\n",
    "    #value=total.text.strip().replace('(','').replace(')','').replace(',','')\n",
    "    pages=int(total.text)/10 \n",
    "    pages=math.ceil(pages)  #올림\n",
    "    # print('페이지수:',pages)\n",
    "\n",
    "    #for i in range(1,pages+1):\n",
    "    for i in range(1,20):\n",
    "        # print(f'page {i}')\n",
    "        url=f'https://movie.naver.com/movie/point/af/list.nhn?st=mcode&sword={codes[j]}&target=after&page={i}'\n",
    "        webpage=urlopen(url)\n",
    "        source=BeautifulSoup(webpage, 'html.parser')\n",
    "        #영화리뷰텍스트\n",
    "        reviews=source.select('tbody > tr > td.title')\n",
    "        if i>pages: continue \n",
    "        for review in reviews:\n",
    "            review = review.text.strip().split('\\n\\n')[2].replace('\\t','').replace('\\n','').replace('네이버','').replace('신고','')\n",
    "            total_reviews.append(review)\n",
    "            movie_codes.append(codes[j])\n",
    "            movie_titles.append(titles[j])\n",
    "        #영화평점\n",
    "        points=source.select('td.title > div > em')\n",
    "        for point in points:\n",
    "            total_points.append(point.text) \n",
    "            # 8점 이상이면 1, 아니면 0으로 라벨링\n",
    "            if int(point.text)>=8:\n",
    "                labels.append(1)\n",
    "            else:\n",
    "                labels.append(0)"
   ]
  },
  {
   "cell_type": "code",
   "execution_count": 63,
   "metadata": {},
   "outputs": [
    {
     "output_type": "stream",
     "name": "stdout",
     "text": [
      "1522\n"
     ]
    }
   ],
   "source": [
    "#영화코드,리뷰,평점,라벨 결합\n",
    "items=list(zip(movie_codes, movie_titles, total_reviews, total_points, labels))\n",
    "print(len(items))"
   ]
  },
  {
   "cell_type": "code",
   "execution_count": 64,
   "metadata": {},
   "outputs": [],
   "source": [
    "#데이터프레임으로 변환 및 저장\n",
    "df=pd.DataFrame(items, columns=['code', 'title', 'review','point','label'])\n",
    "df.to_csv('c:/data/movie/review.csv', encoding='utf-8', index=False)"
   ]
  },
  {
   "cell_type": "code",
   "execution_count": 65,
   "metadata": {},
   "outputs": [
    {
     "output_type": "execute_result",
     "data": {
      "text/plain": [
       "        code       title                                             review  \\\n",
       "0     163834  원더 우먼 1984                                    말해 뭐합니까! 겔가돗인데    \n",
       "1     163834  원더 우먼 1984                                   눈호강,귀호강하고 왔습니다!    \n",
       "2     163834  원더 우먼 1984             페드로 파스칼 연기는 진짜 압권인데...아...개인적으론 처참 했다    \n",
       "3     163834  원더 우먼 1984  어렸을 때 봤던 초대 원더우먼 린다 카터가 쿠키에 나옵니다. 원더우먼 시리즈를 예전...   \n",
       "4     163834  원더 우먼 1984    너무 기대를 했는지 기대에는 못미쳤어요러닝타임이 쓸데없이 길고 편집이 좀 이상했어요    \n",
       "...      ...         ...                                                ...   \n",
       "1517   19031        러브레터                이와이 월드의 시작~30주년 기념으로도 재개봉 해주면 좋겠네요    \n",
       "1518   19031        러브레터  고3 겨울, 38 겨울을 잇는 영화...없던 감수성도 깊숙이 숨어버린 감수성도 솟게...   \n",
       "1519   19031        러브레터  고3 겨울, 38 겨울을 잇는 영화...없던 감수성도 깊숙이 숨어버린 감수성도 솟게...   \n",
       "1520   19031        러브레터         킹시국이고 나발이고 방금 또극장가서 보고옴...다들 잘 살고 계시나요..?    \n",
       "1521   19031        러브레터  20년 전 영화 임에도 하나도 촌스럽지 않고 모든 것이 완벽 했다. 그저 학창시절에...   \n",
       "\n",
       "      point  label  \n",
       "0        10      1  \n",
       "1        10      1  \n",
       "2         1      0  \n",
       "3        10      1  \n",
       "4         6      0  \n",
       "...     ...    ...  \n",
       "1517      9      1  \n",
       "1518     10      1  \n",
       "1519     10      1  \n",
       "1520     10      1  \n",
       "1521     10      1  \n",
       "\n",
       "[1522 rows x 5 columns]"
      ],
      "text/html": "<div>\n<style scoped>\n    .dataframe tbody tr th:only-of-type {\n        vertical-align: middle;\n    }\n\n    .dataframe tbody tr th {\n        vertical-align: top;\n    }\n\n    .dataframe thead th {\n        text-align: right;\n    }\n</style>\n<table border=\"1\" class=\"dataframe\">\n  <thead>\n    <tr style=\"text-align: right;\">\n      <th></th>\n      <th>code</th>\n      <th>title</th>\n      <th>review</th>\n      <th>point</th>\n      <th>label</th>\n    </tr>\n  </thead>\n  <tbody>\n    <tr>\n      <th>0</th>\n      <td>163834</td>\n      <td>원더 우먼 1984</td>\n      <td>말해 뭐합니까! 겔가돗인데</td>\n      <td>10</td>\n      <td>1</td>\n    </tr>\n    <tr>\n      <th>1</th>\n      <td>163834</td>\n      <td>원더 우먼 1984</td>\n      <td>눈호강,귀호강하고 왔습니다!</td>\n      <td>10</td>\n      <td>1</td>\n    </tr>\n    <tr>\n      <th>2</th>\n      <td>163834</td>\n      <td>원더 우먼 1984</td>\n      <td>페드로 파스칼 연기는 진짜 압권인데...아...개인적으론 처참 했다</td>\n      <td>1</td>\n      <td>0</td>\n    </tr>\n    <tr>\n      <th>3</th>\n      <td>163834</td>\n      <td>원더 우먼 1984</td>\n      <td>어렸을 때 봤던 초대 원더우먼 린다 카터가 쿠키에 나옵니다. 원더우먼 시리즈를 예전...</td>\n      <td>10</td>\n      <td>1</td>\n    </tr>\n    <tr>\n      <th>4</th>\n      <td>163834</td>\n      <td>원더 우먼 1984</td>\n      <td>너무 기대를 했는지 기대에는 못미쳤어요러닝타임이 쓸데없이 길고 편집이 좀 이상했어요</td>\n      <td>6</td>\n      <td>0</td>\n    </tr>\n    <tr>\n      <th>...</th>\n      <td>...</td>\n      <td>...</td>\n      <td>...</td>\n      <td>...</td>\n      <td>...</td>\n    </tr>\n    <tr>\n      <th>1517</th>\n      <td>19031</td>\n      <td>러브레터</td>\n      <td>이와이 월드의 시작~30주년 기념으로도 재개봉 해주면 좋겠네요</td>\n      <td>9</td>\n      <td>1</td>\n    </tr>\n    <tr>\n      <th>1518</th>\n      <td>19031</td>\n      <td>러브레터</td>\n      <td>고3 겨울, 38 겨울을 잇는 영화...없던 감수성도 깊숙이 숨어버린 감수성도 솟게...</td>\n      <td>10</td>\n      <td>1</td>\n    </tr>\n    <tr>\n      <th>1519</th>\n      <td>19031</td>\n      <td>러브레터</td>\n      <td>고3 겨울, 38 겨울을 잇는 영화...없던 감수성도 깊숙이 숨어버린 감수성도 솟게...</td>\n      <td>10</td>\n      <td>1</td>\n    </tr>\n    <tr>\n      <th>1520</th>\n      <td>19031</td>\n      <td>러브레터</td>\n      <td>킹시국이고 나발이고 방금 또극장가서 보고옴...다들 잘 살고 계시나요..?</td>\n      <td>10</td>\n      <td>1</td>\n    </tr>\n    <tr>\n      <th>1521</th>\n      <td>19031</td>\n      <td>러브레터</td>\n      <td>20년 전 영화 임에도 하나도 촌스럽지 않고 모든 것이 완벽 했다. 그저 학창시절에...</td>\n      <td>10</td>\n      <td>1</td>\n    </tr>\n  </tbody>\n</table>\n<p>1522 rows × 5 columns</p>\n</div>"
     },
     "metadata": {},
     "execution_count": 65
    }
   ],
   "source": [
    "df2=pd.read_csv('c:/data/movie/review.csv', encoding='utf-8')\n",
    "df2"
   ]
  }
 ]
}