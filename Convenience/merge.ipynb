{
 "metadata": {
  "language_info": {
   "codemirror_mode": {
    "name": "ipython",
    "version": 3
   },
   "file_extension": ".py",
   "mimetype": "text/x-python",
   "name": "python",
   "nbconvert_exporter": "python",
   "pygments_lexer": "ipython3",
   "version": "3.8.3-final"
  },
  "orig_nbformat": 2,
  "kernelspec": {
   "name": "python3",
   "display_name": "Python 3",
   "language": "python"
  }
 },
 "nbformat": 4,
 "nbformat_minor": 2,
 "cells": [
  {
   "cell_type": "code",
   "execution_count": 4,
   "metadata": {},
   "outputs": [],
   "source": [
    "import pandas as pd\n",
    "df1 = pd.read_csv('c:/data/convenience/origin/residence.csv', encoding='ANSI')\n",
    "df2 = pd.read_csv('c:/data/convenience/origin/apartment.csv', encoding='ANSI')\n",
    "df3 = pd.read_csv('c:/data/convenience/origin/openclose.csv', encoding='ANSI')\n",
    "df4 = pd.read_csv('c:/data/convenience/origin/worker.csv', encoding='ANSI')\n",
    "df5 = pd.read_csv('c:/data/convenience/origin/facilities.csv', encoding='ANSI')\n",
    "df6 = pd.read_csv('c:/data/convenience/origin/sales.csv', encoding='ANSI')\n",
    "df7 = pd.read_csv('c:/data/convenience/origin/population.csv', encoding='ANSI')\n",
    "cluster = pd.read_csv('c:/data/convenience/temp/cluster.csv', encoding='ANSI')"
   ]
  },
  {
   "cell_type": "code",
   "execution_count": 5,
   "metadata": {},
   "outputs": [],
   "source": [
    "cols=['기준년코드', '기준분기코드', '상권코드', '총상주인구수', '남성상주인구수', '여성상주인구수', '연령대10상주인구수', '연령대20상주인구수', '연령대30상주인구수', '연령대40상주인구수', '연령대50상주인구수', '연령대60이상상주인구수', '총가구수', '아파트가구수', '비아파트가구수']\n",
    "residence = df1[cols]"
   ]
  },
  {
   "cell_type": "code",
   "execution_count": 6,
   "metadata": {},
   "outputs": [],
   "source": [
    "cols=['기준년코드', '기준분기코드', '상권코드', '아파트평균시가']\n",
    "apartment = df2[cols]"
   ]
  },
  {
   "cell_type": "code",
   "execution_count": 7,
   "metadata": {},
   "outputs": [],
   "source": [
    "cols=['기준년코드', '기준분기코드', '상권코드', '점포수', '유사업종점포수', '개업율', '개업점포수', '폐업률', '폐업점포수', '프랜차이즈점포수']\n",
    "openclose = df3[cols]"
   ]
  },
  {
   "cell_type": "code",
   "execution_count": 8,
   "metadata": {},
   "outputs": [],
   "source": [
    "cols=['기준년코드', '기준분기코드', '상권코드', '총직장인구수', '남성직장인구수', '여성직장인구수', '연령대10직장인구수', '연령대20직장인구수', '연령대30직장인구수', '연령대40직장인구수', '연령대50직장인구수', '연령대60이상직장인구수']\n",
    "worker = df4[cols]"
   ]
  },
  {
   "cell_type": "code",
   "execution_count": 9,
   "metadata": {},
   "outputs": [],
   "source": [
    "df5 = df5.fillna(0)\n",
    "#유사시설 파생변수로 종합\n",
    "df5['의료기관'] = df5['종합병원수'] + df5['일반병원수']\n",
    "df5['교육기관'] = df5['유치원수'] + df5['초등학교수'] + df5['중학교수'] + df5['고등학교수'] + df5['대학교수']\n",
    "df5['대중교통'] = df5['철도역수'] + df5['버스터미널수'] + df5['지하철역수'] + df5['버스정거장수']\n",
    "cols=['기준년코드', '기준분기코드', '상권코드', '관공서수', '은행수', '약국수', '백화점수', '극장수', '숙박시설수', '의료기관', '교육기관', '대중교통']\n",
    "facilities = df5[cols]"
   ]
  },
  {
   "cell_type": "code",
   "execution_count": 10,
   "metadata": {},
   "outputs": [],
   "source": [
    "cols=['기준년코드', '기준분기코드', '상권코드', '월매출평균']\n",
    "sales=df6[cols]"
   ]
  },
  {
   "cell_type": "code",
   "execution_count": 11,
   "metadata": {},
   "outputs": [],
   "source": [
    "cols=['기준년코드', '기준분기코드', '상권코드', '총유동인구수', '남성유동인구수', '여성유동인구수', '연령대10유동인구수', '연령대20유동인구수', '연령대30유동인구수', '연령대40유동인구수', '연령대50유동인구수', '연령대60이상유동인구수']\n",
    "population = df7[cols]"
   ]
  },
  {
   "cell_type": "code",
   "execution_count": 12,
   "metadata": {},
   "outputs": [],
   "source": [
    "from functools import reduce\n",
    "#모든 csv파일 병합\n",
    "df_list = [residence, apartment, openclose, worker, facilities, population, sales] \n",
    "df = reduce(lambda left, right: pd.merge(left, right, on=['기준년코드', '기준분기코드', '상권코드']), df_list) "
   ]
  },
  {
   "cell_type": "code",
   "execution_count": 13,
   "metadata": {},
   "outputs": [],
   "source": [
    "temp1 = df[['상권코드', '개업점포수', '폐업점포수']].groupby(by='상권코드').sum()\n",
    "df = df.drop(['기준년코드', '기준분기코드', '개업점포수', '폐업점포수'], axis=1)\n",
    "temp2 = df.groupby(by='상권코드').mean()\n",
    "df = pd.concat([temp1, temp2], axis=1)"
   ]
  },
  {
   "cell_type": "code",
   "execution_count": 14,
   "metadata": {},
   "outputs": [],
   "source": [
    "df = pd.merge(df, cluster, on='상권코드').set_index('상권코드')"
   ]
  },
  {
   "cell_type": "code",
   "execution_count": 15,
   "metadata": {},
   "outputs": [],
   "source": [
    "df.to_csv('c:/data/convenience/temp/df_merge.csv', encoding='ANSI')"
   ]
  }
 ]
}